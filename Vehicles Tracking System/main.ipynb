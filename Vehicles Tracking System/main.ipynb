{
  "nbformat": 4,
  "nbformat_minor": 0,
  "metadata": {
    "colab": {
      "provenance": [],
      "gpuType": "T4"
    },
    "kernelspec": {
      "name": "python3",
      "display_name": "Python 3"
    },
    "language_info": {
      "name": "python"
    },
    "accelerator": "GPU"
  },
  "cells": [
    {
      "cell_type": "code",
      "source": [
        "import cv2\n",
        "import torch\n",
        "import numpy as np\n",
        "from tracker import *"
      ],
      "metadata": {
        "id": "qAndFqzrppDp"
      },
      "execution_count": 1,
      "outputs": []
    },
    {
      "cell_type": "code",
      "source": [
        "from google.colab import drive\n",
        "drive.mount('/content/drive')"
      ],
      "metadata": {
        "id": "rKQtPAUs3Li0",
        "colab": {
          "base_uri": "https://localhost:8080/"
        },
        "outputId": "d1b1bf1b-68b5-441f-a5de-23d0ef4a6582"
      },
      "execution_count": 4,
      "outputs": [
        {
          "output_type": "stream",
          "name": "stdout",
          "text": [
            "Mounted at /content/drive\n"
          ]
        }
      ]
    },
    {
      "cell_type": "code",
      "source": [
        "# Loading the YOLOv5 weights\n",
        "model = torch.hub.load('ultralytics/yolov5', 'yolov5s', pretrained=True)\n",
        "\n",
        "cap=cv2.VideoCapture('/content/road.mp4')\n",
        "\n",
        "tracker = Tracker()"
      ],
      "metadata": {
        "colab": {
          "base_uri": "https://localhost:8080/"
        },
        "id": "vLk7qwtqpjhZ",
        "outputId": "bc7ca604-7b73-4d28-de58-1b3e1dfafa76"
      },
      "execution_count": 2,
      "outputs": [
        {
          "output_type": "stream",
          "name": "stderr",
          "text": [
            "Using cache found in /root/.cache/torch/hub/ultralytics_yolov5_master\n",
            "YOLOv5 🚀 2024-1-27 Python-3.10.12 torch-2.1.0+cu121 CUDA:0 (Tesla T4, 15102MiB)\n",
            "\n",
            "Fusing layers... \n",
            "YOLOv5s summary: 213 layers, 7225885 parameters, 0 gradients, 16.4 GFLOPs\n",
            "Adding AutoShape... \n"
          ]
        }
      ]
    },
    {
      "cell_type": "code",
      "source": [
        "fourcc = cv2.VideoWriter_fourcc(*'XVID')\n",
        "out = cv2.VideoWriter('output_video2.avi', fourcc, 30.0, (1020, 600))"
      ],
      "metadata": {
        "id": "prTDCP5wrcrX"
      },
      "execution_count": 3,
      "outputs": []
    },
    {
      "cell_type": "code",
      "source": [
        "while True:\n",
        "\n",
        "    ret,frame=cap.read()\n",
        "\n",
        "    if not ret:\n",
        "        break\n",
        "\n",
        "    frame=cv2.resize(frame,(1020,600))\n",
        "    # gettigng the results of the object detection process\n",
        "    results=model(frame)\n",
        "    points = []\n",
        "\n",
        "    # Extracting the bounding boxes coordinates\n",
        "    for index , row in results.pandas().xyxy[0].iterrows():\n",
        "        x1 = int(row['xmin'])\n",
        "        y1 = int(row['ymin'])\n",
        "        x2 = int(row['xmax'])\n",
        "        y2 = int(row['ymax'])\n",
        "        n=(row['name'])\n",
        "\n",
        "        # Tracking cars only\n",
        "        if 'car' in n:\n",
        "            points.append([x1,y1,x2,y2])\n",
        "\n",
        "    # updating the coordinates of the bounding boxes using the tracker class\n",
        "    boxes_id = tracker.update(points)\n",
        "\n",
        "    for box_id in boxes_id:\n",
        "        x , y , w , h , id = box_id\n",
        "        cv2.putText(frame,'Car_ID:'+ str(int(id)),(x,y),cv2.FONT_HERSHEY_PLAIN,1.3,(255,255,0),1)\n",
        "        cv2.rectangle(frame,(x,y),(w,h),(255,255,55),2)\n",
        "\n",
        "    out.write(frame)\n",
        "out.release()\n"
      ],
      "metadata": {
        "colab": {
          "base_uri": "https://localhost:8080/"
        },
        "id": "oufURq36pjxh",
        "outputId": "96950a3c-b262-4f9c-ba26-934e19862917"
      },
      "execution_count": 4,
      "outputs": [
        {
          "output_type": "stream",
          "name": "stderr",
          "text": [
            "WARNING ⚠️ NMS time limit 0.550s exceeded\n"
          ]
        }
      ]
    },
    {
      "cell_type": "code",
      "source": [],
      "metadata": {
        "id": "6z8Bg-W0pj4Y"
      },
      "execution_count": null,
      "outputs": []
    }
  ]
}